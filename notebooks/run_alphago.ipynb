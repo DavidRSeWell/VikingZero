{
 "cells": [
  {
   "cell_type": "code",
   "execution_count": 1,
   "metadata": {},
   "outputs": [],
   "source": [
    "%load_ext tensorboard"
   ]
  },
  {
   "cell_type": "code",
   "execution_count": 2,
   "metadata": {},
   "outputs": [],
   "source": [
    "import numpy as np\n",
    "import os\n",
    "import torch\n",
    "\n",
    "from vikingzero.run_agent import run_agent"
   ]
  },
  {
   "cell_type": "code",
   "execution_count": 3,
   "metadata": {},
   "outputs": [],
   "source": [
    "curr_dir = os.path.abspath(os.getcwd())"
   ]
  },
  {
   "cell_type": "code",
   "execution_count": 4,
   "metadata": {},
   "outputs": [],
   "source": [
    "#config_file = curr_dir + \"/tictactoe_alphago.yaml\"\n",
    "config_file = curr_dir + \"/test_tictactoe.yaml\""
   ]
  },
  {
   "cell_type": "code",
   "execution_count": 5,
   "metadata": {},
   "outputs": [
    {
     "name": "stderr",
     "output_type": "stream",
     "text": [
      "  0%|          | 0/10 [00:00<?, ?it/s]"
     ]
    },
    {
     "name": "stdout",
     "output_type": "stream",
     "text": [
      "Processing Yaml Config File\n",
      "----------------PASSED PARAMS -----------------------\n",
      "{\n",
      "    \"agent_config\": {\n",
      "        \"agent1\": {\n",
      "            \"agent\": \"TicTacToeMCTS\",\n",
      "            \"c\": 1.41,\n",
      "            \"n_sim\": 10,\n",
      "            \"player\": 1\n",
      "        },\n",
      "        \"agent2\": {\n",
      "            \"agent\": \"TicTacToeMinMax\",\n",
      "            \"player\": 2,\n",
      "            \"type\": \"alphabeta\"\n",
      "        }\n",
      "    },\n",
      "    \"env\": \"TicTacToe\",\n",
      "    \"exp_config\": {\n",
      "        \"episodes\": 10,\n",
      "        \"eval_iters\": 1,\n",
      "        \"logger_type\": \"tensorboard\",\n",
      "        \"plot_data\": true,\n",
      "        \"record_all\": true,\n",
      "        \"record_every\": 1,\n",
      "        \"render\": false,\n",
      "        \"train_iters\": 1\n",
      "    }\n",
      "}\n",
      "Loading environment TicTacToe\n",
      "Loading agent TicTacToeMCTS\n",
      "Loaded MCTS with nsim = 10 c = 1.41 player = 1\n",
      "Loading agent TicTacToeMinMax\n",
      "Done loading configurations now running experiment\n",
      "Running iteration 0\n"
     ]
    },
    {
     "name": "stderr",
     "output_type": "stream",
     "text": [
      " 10%|█         | 1/10 [00:01<00:09,  1.10s/it]"
     ]
    },
    {
     "name": "stdout",
     "output_type": "stream",
     "text": [
      "Running iteration 1\n"
     ]
    },
    {
     "name": "stderr",
     "output_type": "stream",
     "text": [
      " 20%|██        | 2/10 [00:03<00:14,  1.75s/it]"
     ]
    },
    {
     "name": "stdout",
     "output_type": "stream",
     "text": [
      "Running iteration 2\n"
     ]
    },
    {
     "name": "stderr",
     "output_type": "stream",
     "text": [
      " 30%|███       | 3/10 [00:04<00:10,  1.51s/it]"
     ]
    },
    {
     "name": "stdout",
     "output_type": "stream",
     "text": [
      "Running iteration 3\n"
     ]
    },
    {
     "name": "stderr",
     "output_type": "stream",
     "text": [
      " 40%|████      | 4/10 [00:05<00:08,  1.44s/it]"
     ]
    },
    {
     "name": "stdout",
     "output_type": "stream",
     "text": [
      "Running iteration 4\n"
     ]
    },
    {
     "name": "stderr",
     "output_type": "stream",
     "text": [
      " 50%|█████     | 5/10 [00:07<00:07,  1.45s/it]"
     ]
    },
    {
     "name": "stdout",
     "output_type": "stream",
     "text": [
      "Running iteration 5\n"
     ]
    },
    {
     "name": "stderr",
     "output_type": "stream",
     "text": [
      " 60%|██████    | 6/10 [00:08<00:05,  1.48s/it]"
     ]
    },
    {
     "name": "stdout",
     "output_type": "stream",
     "text": [
      "Running iteration 6\n"
     ]
    },
    {
     "name": "stderr",
     "output_type": "stream",
     "text": [
      " 70%|███████   | 7/10 [00:10<00:04,  1.52s/it]"
     ]
    },
    {
     "name": "stdout",
     "output_type": "stream",
     "text": [
      "Running iteration 7\n"
     ]
    },
    {
     "name": "stderr",
     "output_type": "stream",
     "text": [
      " 80%|████████  | 8/10 [00:12<00:03,  1.55s/it]"
     ]
    },
    {
     "name": "stdout",
     "output_type": "stream",
     "text": [
      "Running iteration 8\n"
     ]
    },
    {
     "name": "stderr",
     "output_type": "stream",
     "text": [
      " 90%|█████████ | 9/10 [00:13<00:01,  1.57s/it]"
     ]
    },
    {
     "name": "stdout",
     "output_type": "stream",
     "text": [
      "Running iteration 9\n"
     ]
    },
    {
     "name": "stderr",
     "output_type": "stream",
     "text": [
      "100%|██████████| 10/10 [00:15<00:00,  1.54s/it]\n",
      "No handles with labels found to put in legend.\n"
     ]
    },
    {
     "name": "stdout",
     "output_type": "stream",
     "text": [
      "Done running experiment\n",
      "Showing results\n"
     ]
    },
    {
     "data": {
      "image/png": "[encoded data removed]",
      "text/plain": [
       "<Figure size 432x288 with 1 Axes>"
      ]
     },
     "metadata": {
      "needs_background": "light"
     },
     "output_type": "display_data"
    },
    {
     "name": "stderr",
     "output_type": "stream",
     "text": [
      "No handles with labels found to put in legend.\n"
     ]
    },
    {
     "data": {
      "image/png": "[encoded data removed]",
      "text/plain": [
       "<Figure size 432x288 with 1 Axes>"
      ]
     },
     "metadata": {
      "needs_background": "light"
     },
     "output_type": "display_data"
    }
   ],
   "source": [
    "logger,agent = run_agent(config_file)"
   ]
  },
  {
   "cell_type": "code",
   "execution_count": 6,
   "metadata": {},
   "outputs": [
    {
     "data": {
      "text/plain": [
       "ERROR: Failed to launch TensorBoard (exited with 1).\n",
       "Contents of stderr:\n",
       "TensorFlow installation not found - running with reduced feature set.\n",
       "Traceback (most recent call last):\n",
       "  File \"/Users/davidsewell/.python-virtualenvs/VikingZero/bin/tensorboard\", line 8, in <module>\n",
       "    sys.exit(run_main())\n",
       "  File \"/Users/davidsewell/.python-virtualenvs/VikingZero/lib/python3.9/site-packages/tensorboard/main.py\", line 65, in run_main\n",
       "    default.get_plugins(),\n",
       "  File \"/Users/davidsewell/.python-virtualenvs/VikingZero/lib/python3.9/site-packages/tensorboard/default.py\", line 108, in get_plugins\n",
       "    return get_static_plugins() + get_dynamic_plugins()\n",
       "  File \"/Users/davidsewell/.python-virtualenvs/VikingZero/lib/python3.9/site-packages/tensorboard/default.py\", line 143, in get_dynamic_plugins\n",
       "    return [\n",
       "  File \"/Users/davidsewell/.python-virtualenvs/VikingZero/lib/python3.9/site-packages/tensorboard/default.py\", line 144, in <listcomp>\n",
       "    entry_point.load()\n",
       "  File \"/Users/davidsewell/.python-virtualenvs/VikingZero/lib/python3.9/site-packages/pkg_resources/__init__.py\", line 2446, in load\n",
       "    self.require(*args, **kwargs)\n",
       "  File \"/Users/davidsewell/.python-virtualenvs/VikingZero/lib/python3.9/site-packages/pkg_resources/__init__.py\", line 2469, in require\n",
       "    items = working_set.resolve(reqs, env, installer, extras=self.extras)\n",
       "  File \"/Users/davidsewell/.python-virtualenvs/VikingZero/lib/python3.9/site-packages/pkg_resources/__init__.py\", line 770, in resolve\n",
       "    raise DistributionNotFound(req, requirers)\n",
       "pkg_resources.DistributionNotFound: The 'wheel>=0.26; python_version >= \"3\"' distribution was not found and is required by the application"
      ]
     },
     "metadata": {},
     "output_type": "display_data"
    }
   ],
   "source": [
    "%tensorboard --logdir=runs/ --host localhost"
   ]
  },
  {
   "cell_type": "code",
   "execution_count": 7,
   "metadata": {},
   "outputs": [
    {
     "name": "stdout",
     "output_type": "stream",
     "text": [
      "/Users/davidsewell/.python-virtualenvs/VikingZero/bin/python\n"
     ]
    }
   ],
   "source": [
    "!which python"
   ]
  },
  {
   "cell_type": "code",
   "execution_count": null,
   "metadata": {},
   "outputs": [],
   "source": []
  }
 ],
 "metadata": {
  "kernelspec": {
   "display_name": "Python 3",
   "language": "python",
   "name": "python3"
  },
  "language_info": {
   "codemirror_mode": {
    "name": "ipython",
    "version": 3
   },
   "file_extension": ".py",
   "mimetype": "text/x-python",
   "name": "python",
   "nbconvert_exporter": "python",
   "pygments_lexer": "ipython3",
   "version": "3.9.0"
  },
  "pycharm": {
   "stem_cell": {
    "cell_type": "raw",
    "metadata": {
     "collapsed": false
    },
    "source": []
   }
  }
 },
 "nbformat": 4,
 "nbformat_minor": 4
}
