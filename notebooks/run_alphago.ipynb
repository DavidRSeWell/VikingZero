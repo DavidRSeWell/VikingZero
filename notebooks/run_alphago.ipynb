{
 "cells": [
  {
   "cell_type": "code",
   "execution_count": 1,
   "metadata": {},
   "outputs": [],
   "source": [
    "%load_ext tensorboard"
   ]
  },
  {
   "cell_type": "code",
   "execution_count": 2,
   "metadata": {},
   "outputs": [],
   "source": [
    "project_path = \"\""
   ]
  },
  {
   "cell_type": "code",
   "execution_count": 3,
   "metadata": {},
   "outputs": [],
   "source": [
    "from vikingzero.run_agent import run_agent"
   ]
  },
  {
   "cell_type": "code",
   "execution_count": 4,
   "metadata": {},
   "outputs": [],
   "source": [
    "config_file = project_path + \"\""
   ]
  },
  {
   "cell_type": "code",
   "execution_count": 5,
   "metadata": {
    "collapsed": true,
    "jupyter": {
     "outputs_hidden": true
    }
   },
   "outputs": [
    {
     "name": "stdout",
     "output_type": "stream",
     "text": [
      "Processing Yaml Config File\n",
      "----------------PASSED PARAMS -----------------------\n",
      "{\n",
      "    \"agent_config\": {\n",
      "        \"agent1\": {\n",
      "            \"agent\": \"AlphaZero\",\n",
      "            \"augment_input\": true,\n",
      "            \"batch_size\": 32,\n",
      "            \"c\": 1.41,\n",
      "            \"dirichlet_noise\": 1,\n",
      "            \"dropout\": 0.3,\n",
      "            \"epochs\": 25,\n",
      "            \"epsilon\": 0,\n",
      "            \"input_height\": 3,\n",
      "            \"input_width\": 3,\n",
      "            \"lr\": 0.001,\n",
      "            \"max_mem_size\": 10000,\n",
      "            \"momentum\": 0.9,\n",
      "            \"n_sim\": 25,\n",
      "            \"network_path\": \"\",\n",
      "            \"network_type\": \"normal\",\n",
      "            \"num_channels\": 32,\n",
      "            \"optimizer\": \"Adam\",\n",
      "            \"output_size\": 9,\n",
      "            \"player\": 1,\n",
      "            \"t_threshold\": 2,\n",
      "            \"weight_decay\": 0\n",
      "        },\n",
      "        \"agent2\": {\n",
      "            \"agent\": \"TicTacToeMinMax\",\n",
      "            \"player\": 2,\n",
      "            \"type\": \"alphabeta\"\n",
      "        }\n",
      "    },\n",
      "    \"env\": \"TicTacToe\",\n",
      "    \"exp_config\": {\n",
      "        \"episodes\": 10,\n",
      "        \"eval_iters\": 1,\n",
      "        \"eval_threshold\": 1,\n",
      "        \"exp_name\": \"alphago\",\n",
      "        \"logger_type\": \"tensorboard\",\n",
      "        \"neptune_api_token\": \"eyJhcGlfYWRkcmVzcyI6Imh0dHBzOi8vdWkubmVwdHVuZS5haSIsImFwaV91cmwiOiJodHRwczovL3VpLm5lcHR1bmUuYWkiLCJhcGlfa2V5IjoiYThhM2FkNmItNGJmOC00NTc3LWI1ZDctNmE1NTYxMDBmMzkyIn0=\",\n",
      "        \"neptune_name\": \"befeltingu/sandbox\",\n",
      "        \"plot_data\": true,\n",
      "        \"record_all\": true,\n",
      "        \"record_every\": 1,\n",
      "        \"render\": false,\n",
      "        \"run_evaluator\": false,\n",
      "        \"save_model\": true,\n",
      "        \"train_iters\": 5\n",
      "    }\n",
      "}\n",
      "Loading environment TicTacToe\n",
      "Running AlphaGO Zero Experiment. Loading Appropriate designer\n",
      "Loading agent AlphaZero\n"
     ]
    },
    {
     "name": "stderr",
     "output_type": "stream",
     "text": [
      "  0%|          | 0/10 [00:00<?, ?it/s]"
     ]
    },
    {
     "name": "stdout",
     "output_type": "stream",
     "text": [
      "Loading agent TicTacToeMinMax\n",
      "Loading agent AlphaZero\n",
      "Done loading configurations now running experiment\n",
      "Running iteration 0\n",
      "Training time =0.020743981997172038 For 5 iters\n",
      "Training network time =0.001346417268117269\n",
      " ---------- Eval as player 1 vs minimax ---------\n",
      " ---------- Eval as player 2 vs minimax ---------\n"
     ]
    },
    {
     "name": "stderr",
     "output_type": "stream",
     "text": [
      " 10%|█         | 1/10 [00:05<00:49,  5.49s/it]"
     ]
    },
    {
     "name": "stdout",
     "output_type": "stream",
     "text": [
      "---------- Current Player vs Current Best ____________ \n",
      "Running iteration 1\n",
      "Training time =0.02361081838607788 For 5 iters\n",
      "Training network time =0.001490632692972819\n",
      " ---------- Eval as player 1 vs minimax ---------\n",
      " ---------- Eval as player 2 vs minimax ---------\n"
     ]
    },
    {
     "name": "stderr",
     "output_type": "stream",
     "text": [
      " 20%|██        | 2/10 [00:11<00:44,  5.55s/it]"
     ]
    },
    {
     "name": "stdout",
     "output_type": "stream",
     "text": [
      "---------- Current Player vs Current Best ____________ \n",
      "Running iteration 2\n",
      "Training time =0.02227479616800944 For 5 iters\n",
      "Training network time =0.001141969362894694\n",
      " ---------- Eval as player 1 vs minimax ---------\n",
      " ---------- Eval as player 2 vs minimax ---------\n"
     ]
    },
    {
     "name": "stderr",
     "output_type": "stream",
     "text": [
      " 30%|███       | 3/10 [00:16<00:39,  5.57s/it]"
     ]
    },
    {
     "name": "stdout",
     "output_type": "stream",
     "text": [
      "---------- Current Player vs Current Best ____________ \n",
      "Running iteration 3\n",
      "Training time =0.02359448273976644 For 5 iters\n",
      "Training network time =0.0010873675346374512\n",
      " ---------- Eval as player 1 vs minimax ---------\n",
      " ---------- Eval as player 2 vs minimax ---------\n"
     ]
    },
    {
     "name": "stderr",
     "output_type": "stream",
     "text": [
      " 40%|████      | 4/10 [00:22<00:34,  5.72s/it]"
     ]
    },
    {
     "name": "stdout",
     "output_type": "stream",
     "text": [
      "---------- Current Player vs Current Best ____________ \n",
      "Running iteration 4\n",
      "Training time =0.022210832436879477 For 5 iters\n",
      "Training network time =0.0011711835861206055\n",
      " ---------- Eval as player 1 vs minimax ---------\n",
      " ---------- Eval as player 2 vs minimax ---------\n"
     ]
    },
    {
     "name": "stderr",
     "output_type": "stream",
     "text": [
      " 50%|█████     | 5/10 [00:28<00:28,  5.72s/it]"
     ]
    },
    {
     "name": "stdout",
     "output_type": "stream",
     "text": [
      "---------- Current Player vs Current Best ____________ \n",
      "Running iteration 5\n",
      "Training time =0.026514283816019692 For 5 iters\n",
      "Training network time =0.00116195281346639\n",
      " ---------- Eval as player 1 vs minimax ---------\n",
      " ---------- Eval as player 2 vs minimax ---------\n"
     ]
    },
    {
     "name": "stderr",
     "output_type": "stream",
     "text": [
      " 60%|██████    | 6/10 [00:35<00:23,  5.95s/it]"
     ]
    },
    {
     "name": "stdout",
     "output_type": "stream",
     "text": [
      "---------- Current Player vs Current Best ____________ \n",
      "Running iteration 6\n",
      "Training time =0.02397911548614502 For 5 iters\n",
      "Training network time =0.0011092821756998699\n",
      " ---------- Eval as player 1 vs minimax ---------\n",
      " ---------- Eval as player 2 vs minimax ---------\n"
     ]
    },
    {
     "name": "stderr",
     "output_type": "stream",
     "text": [
      " 70%|███████   | 7/10 [00:41<00:17,  5.99s/it]"
     ]
    },
    {
     "name": "stdout",
     "output_type": "stream",
     "text": [
      "---------- Current Player vs Current Best ____________ \n",
      "Running iteration 7\n",
      "Training time =0.02320633331934611 For 5 iters\n",
      "Training network time =0.0011084159215291342\n",
      " ---------- Eval as player 1 vs minimax ---------\n",
      " ---------- Eval as player 2 vs minimax ---------\n"
     ]
    },
    {
     "name": "stderr",
     "output_type": "stream",
     "text": [
      " 80%|████████  | 8/10 [00:46<00:11,  5.89s/it]"
     ]
    },
    {
     "name": "stdout",
     "output_type": "stream",
     "text": [
      "---------- Current Player vs Current Best ____________ \n",
      "Running iteration 8\n",
      "Training time =0.02103688319524129 For 5 iters\n",
      "Training network time =0.0011705676714579263\n",
      " ---------- Eval as player 1 vs minimax ---------\n",
      " ---------- Eval as player 2 vs minimax ---------\n"
     ]
    },
    {
     "name": "stderr",
     "output_type": "stream",
     "text": [
      " 90%|█████████ | 9/10 [00:52<00:05,  5.73s/it]"
     ]
    },
    {
     "name": "stdout",
     "output_type": "stream",
     "text": [
      "---------- Current Player vs Current Best ____________ \n",
      "Running iteration 9\n",
      "Training time =0.025268109639485677 For 5 iters\n",
      "Training network time =0.0010938803354899088\n",
      " ---------- Eval as player 1 vs minimax ---------\n",
      " ---------- Eval as player 2 vs minimax ---------\n"
     ]
    },
    {
     "name": "stderr",
     "output_type": "stream",
     "text": [
      "100%|██████████| 10/10 [00:58<00:00,  5.80s/it]\n",
      "WARNING:matplotlib.legend:No handles with labels found to put in legend.\n"
     ]
    },
    {
     "name": "stdout",
     "output_type": "stream",
     "text": [
      "---------- Current Player vs Current Best ____________ \n",
      "Done running experiment\n"
     ]
    },
    {
     "data": {
      "image/png": "[encoded data removed]",
      "text/plain": [
       "<Figure size 432x288 with 1 Axes>"
      ]
     },
     "metadata": {
      "needs_background": "light"
     },
     "output_type": "display_data"
    },
    {
     "name": "stderr",
     "output_type": "stream",
     "text": [
      "WARNING:matplotlib.legend:No handles with labels found to put in legend.\n"
     ]
    },
    {
     "data": {
      "image/png": "[encoded data removed]",
      "text/plain": [
       "<Figure size 432x288 with 1 Axes>"
      ]
     },
     "metadata": {
      "needs_background": "light"
     },
     "output_type": "display_data"
    },
    {
     "name": "stderr",
     "output_type": "stream",
     "text": [
      "WARNING:matplotlib.legend:No handles with labels found to put in legend.\n"
     ]
    },
    {
     "data": {
      "image/png": "[encoded data removed]",
      "text/plain": [
       "<Figure size 432x288 with 1 Axes>"
      ]
     },
     "metadata": {
      "needs_background": "light"
     },
     "output_type": "display_data"
    },
    {
     "name": "stderr",
     "output_type": "stream",
     "text": [
      "WARNING:matplotlib.legend:No handles with labels found to put in legend.\n"
     ]
    },
    {
     "data": {
      "image/png": "[encoded data removed]",
      "text/plain": [
       "<Figure size 432x288 with 1 Axes>"
      ]
     },
     "metadata": {
      "needs_background": "light"
     },
     "output_type": "display_data"
    },
    {
     "name": "stderr",
     "output_type": "stream",
     "text": [
      "WARNING:matplotlib.legend:No handles with labels found to put in legend.\n"
     ]
    },
    {
     "data": {
      "image/png": "[encoded data removed]",
      "text/plain": [
       "<Figure size 432x288 with 1 Axes>"
      ]
     },
     "metadata": {
      "needs_background": "light"
     },
     "output_type": "display_data"
    },
    {
     "name": "stdout",
     "output_type": "stream",
     "text": [
      "Showing results\n"
     ]
    }
   ],
   "source": [
    "run_agent(config_file)"
   ]
  },
  {
   "cell_type": "code",
   "execution_count": 6,
   "metadata": {},
   "outputs": [
    {
     "data": {
      "text/plain": [
       "Reusing TensorBoard on port 6006 (pid 12822), started 0:08:00 ago. (Use '!kill 12822' to kill it.)"
      ]
     },
     "metadata": {},
     "output_type": "display_data"
    },
    {
     "data": {
      "text/html": [
       "\n",
       "      <iframe id=\"tensorboard-frame-d4c072a61e7e6045\" width=\"100%\" height=\"800\" frameborder=\"0\">\n",
       "      </iframe>\n",
       "      <script>\n",
       "        (function() {\n",
       "          const frame = document.getElementById(\"tensorboard-frame-d4c072a61e7e6045\");\n",
       "          const url = new URL(\"/\", window.location);\n",
       "          const port = 6006;\n",
       "          if (port) {\n",
       "            url.port = port;\n",
       "          }\n",
       "          frame.src = url;\n",
       "        })();\n",
       "      </script>\n",
       "    "
      ],
      "text/plain": [
       "<IPython.core.display.HTML object>"
      ]
     },
     "metadata": {},
     "output_type": "display_data"
    }
   ],
   "source": [
    "%tensorboard --logdir \"Log Directory\" "
   ]
  },
  {
   "cell_type": "code",
   "execution_count": null,
   "metadata": {},
   "outputs": [],
   "source": []
  }
 ],
 "metadata": {
  "kernelspec": {
   "display_name": "VikingZero2",
   "language": "python",
   "name": "vikingzero2"
  },
  "language_info": {
   "codemirror_mode": {
    "name": "ipython",
    "version": 3
   },
   "file_extension": ".py",
   "mimetype": "text/x-python",
   "name": "python",
   "nbconvert_exporter": "python",
   "pygments_lexer": "ipython3",
   "version": "3.7.0"
  },
  "pycharm": {
   "stem_cell": {
    "cell_type": "raw",
    "source": [],
    "metadata": {
     "collapsed": false
    }
   }
  }
 },
 "nbformat": 4,
 "nbformat_minor": 4
}
