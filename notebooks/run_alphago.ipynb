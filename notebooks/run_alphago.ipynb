{
 "cells": [
  {
   "cell_type": "code",
   "execution_count": 1,
   "metadata": {},
   "outputs": [],
   "source": [
    "%load_ext tensorboard"
   ]
  },
  {
   "cell_type": "code",
   "execution_count": 2,
   "metadata": {},
   "outputs": [],
   "source": [
    "project_path = \"/Users/befeltingu/Documents/Github/VikingZeroDev\""
   ]
  },
  {
   "cell_type": "code",
   "execution_count": 3,
   "metadata": {},
   "outputs": [],
   "source": [
    "from vikingzero.run_agent import run_agent"
   ]
  },
  {
   "cell_type": "code",
   "execution_count": 4,
   "metadata": {},
   "outputs": [],
   "source": [
    "config_file = project_path + \"/notebooks/tictactoe_alphago.yaml\"\n",
    "#config_file = project_path + \"/notebooks/test_tictactoe.yaml\""
   ]
  },
  {
   "cell_type": "code",
   "execution_count": 5,
   "metadata": {},
   "outputs": [
    {
     "name": "stdout",
     "output_type": "stream",
     "text": [
      "Processing Yaml Config File\n",
      "----------------PASSED PARAMS -----------------------\n",
      "{\n",
      "    \"agent_config\": {\n",
      "        \"agent1\": {\n",
      "            \"agent\": \"AlphaZero\",\n",
      "            \"augment_input\": true,\n",
      "            \"batch_size\": 32,\n",
      "            \"c\": 1.41,\n",
      "            \"dirichlet_noise\": 1,\n",
      "            \"dropout\": 0.3,\n",
      "            \"epochs\": 25,\n",
      "            \"epsilon\": 0,\n",
      "            \"input_height\": 3,\n",
      "            \"input_width\": 3,\n",
      "            \"lr\": 0.001,\n",
      "            \"max_mem_size\": 10000,\n",
      "            \"momentum\": 0.9,\n",
      "            \"n_sim\": 2,\n",
      "            \"network_path\": \"\",\n",
      "            \"network_type\": \"cnn_small\",\n",
      "            \"num_channels\": 32,\n",
      "            \"optimizer\": \"Adam\",\n",
      "            \"output_size\": 9,\n",
      "            \"player\": 1,\n",
      "            \"t_threshold\": 2,\n",
      "            \"weight_decay\": 0\n",
      "        },\n",
      "        \"agent2\": {\n",
      "            \"agent\": \"TicTacToeMinMax\",\n",
      "            \"player\": 2,\n",
      "            \"type\": \"alphabeta\"\n",
      "        }\n",
      "    },\n",
      "    \"env\": \"TicTacToe\",\n",
      "    \"exp_config\": {\n",
      "        \"episodes\": 10,\n",
      "        \"eval_iters\": 1,\n",
      "        \"eval_threshold\": 1,\n",
      "        \"exp_name\": \"alphago\",\n",
      "        \"logger_type\": \"tensorboard\",\n",
      "        \"neptune_api_token\": \"neptune_api_key\",\n",
      "        \"neptune_name\": \"neptune_user_name/sandbox\",\n",
      "        \"plot_data\": true,\n",
      "        \"record_all\": true,\n",
      "        \"record_every\": 1,\n",
      "        \"render\": false,\n",
      "        \"run_evaluator\": false,\n",
      "        \"save_model\": true,\n",
      "        \"train_iters\": 1\n",
      "    }\n",
      "}\n",
      "Loading environment TicTacToe\n",
      "Running AlphaGO Zero Experiment. Loading Appropriate designer\n",
      "Loading agent AlphaZero\n"
     ]
    },
    {
     "name": "stderr",
     "output_type": "stream",
     "text": [
      "  0%|          | 0/10 [00:00<?, ?it/s]"
     ]
    },
    {
     "name": "stdout",
     "output_type": "stream",
     "text": [
      "Loading agent TicTacToeMinMax\n",
      "Loading agent AlphaZero\n",
      "Done loading configurations now running experiment\n",
      "Running iteration 0\n",
      "Training time =0.0010368665059407552 For 1 iters\n",
      "Training network time =2.5987625122070313e-06\n"
     ]
    },
    {
     "name": "stderr",
     "output_type": "stream",
     "text": [
      " 10%|█         | 1/10 [00:06<00:59,  6.64s/it]"
     ]
    },
    {
     "name": "stdout",
     "output_type": "stream",
     "text": [
      "---------- Current Player vs Current Best ____________ \n",
      "Running iteration 1\n",
      "Training time =0.0010020812352498373 For 1 iters\n",
      "Training network time =9.775161743164062e-07\n"
     ]
    },
    {
     "name": "stderr",
     "output_type": "stream",
     "text": [
      " 20%|██        | 2/10 [00:13<00:52,  6.59s/it]"
     ]
    },
    {
     "name": "stdout",
     "output_type": "stream",
     "text": [
      "---------- Current Player vs Current Best ____________ \n",
      "Running iteration 2\n",
      "Training time =0.001037450631459554 For 1 iters\n",
      "Training network time =1.049041748046875e-06\n"
     ]
    },
    {
     "name": "stderr",
     "output_type": "stream",
     "text": [
      " 30%|███       | 3/10 [00:19<00:45,  6.51s/it]"
     ]
    },
    {
     "name": "stdout",
     "output_type": "stream",
     "text": [
      "---------- Current Player vs Current Best ____________ \n",
      "Running iteration 3\n",
      "Training time =0.000958398977915446 For 1 iters\n",
      "Training network time =1.049041748046875e-06\n"
     ]
    },
    {
     "name": "stderr",
     "output_type": "stream",
     "text": [
      " 40%|████      | 4/10 [00:28<00:43,  7.25s/it]"
     ]
    },
    {
     "name": "stdout",
     "output_type": "stream",
     "text": [
      "---------- Current Player vs Current Best ____________ \n",
      "Running iteration 4\n",
      "Training time =0.001218851407368978 For 1 iters\n",
      "Training network time =0.0053531487782796225\n"
     ]
    },
    {
     "name": "stderr",
     "output_type": "stream",
     "text": [
      " 50%|█████     | 5/10 [00:35<00:36,  7.26s/it]"
     ]
    },
    {
     "name": "stdout",
     "output_type": "stream",
     "text": [
      "---------- Current Player vs Current Best ____________ \n",
      "Running iteration 5\n",
      "Training time =0.0009946505228678386 For 1 iters\n",
      "Training network time =0.004592716693878174\n"
     ]
    },
    {
     "name": "stderr",
     "output_type": "stream",
     "text": [
      " 60%|██████    | 6/10 [00:42<00:28,  7.05s/it]"
     ]
    },
    {
     "name": "stdout",
     "output_type": "stream",
     "text": [
      "---------- Current Player vs Current Best ____________ \n",
      "Running iteration 6\n",
      "Training time =0.0007696191469828288 For 1 iters\n",
      "Training network time =0.00439376433690389\n"
     ]
    },
    {
     "name": "stderr",
     "output_type": "stream",
     "text": [
      " 70%|███████   | 7/10 [00:48<00:20,  6.89s/it]"
     ]
    },
    {
     "name": "stdout",
     "output_type": "stream",
     "text": [
      "---------- Current Player vs Current Best ____________ \n",
      "Running iteration 7\n",
      "Training time =0.0007897496223449707 For 1 iters\n",
      "Training network time =0.0048990011215209964\n"
     ]
    },
    {
     "name": "stderr",
     "output_type": "stream",
     "text": [
      " 80%|████████  | 8/10 [00:55<00:13,  6.73s/it]"
     ]
    },
    {
     "name": "stdout",
     "output_type": "stream",
     "text": [
      "---------- Current Player vs Current Best ____________ \n",
      "Running iteration 8\n",
      "Training time =0.000774685541788737 For 1 iters\n",
      "Training network time =0.004810901482899984\n"
     ]
    },
    {
     "name": "stderr",
     "output_type": "stream",
     "text": [
      " 90%|█████████ | 9/10 [01:01<00:06,  6.73s/it]"
     ]
    },
    {
     "name": "stdout",
     "output_type": "stream",
     "text": [
      "---------- Current Player vs Current Best ____________ \n",
      "Running iteration 9\n",
      "Training time =0.0008356014887491862 For 1 iters\n",
      "Training network time =0.004652067025502523\n"
     ]
    },
    {
     "name": "stderr",
     "output_type": "stream",
     "text": [
      "100%|██████████| 10/10 [01:08<00:00,  6.85s/it]\n",
      "WARNING:matplotlib.legend:No handles with labels found to put in legend.\n"
     ]
    },
    {
     "name": "stdout",
     "output_type": "stream",
     "text": [
      "---------- Current Player vs Current Best ____________ \n",
      "Done running experiment\n",
      "Showing results\n"
     ]
    },
    {
     "data": {
      "image/png": "[encoded data removed]",
      "text/plain": [
       "<Figure size 432x288 with 1 Axes>"
      ]
     },
     "metadata": {
      "needs_background": "light"
     },
     "output_type": "display_data"
    },
    {
     "name": "stderr",
     "output_type": "stream",
     "text": [
      "WARNING:matplotlib.legend:No handles with labels found to put in legend.\n"
     ]
    },
    {
     "data": {
      "image/png": "[encoded data removed]",
      "text/plain": [
       "<Figure size 432x288 with 1 Axes>"
      ]
     },
     "metadata": {
      "needs_background": "light"
     },
     "output_type": "display_data"
    },
    {
     "name": "stderr",
     "output_type": "stream",
     "text": [
      "WARNING:matplotlib.legend:No handles with labels found to put in legend.\n"
     ]
    },
    {
     "data": {
      "image/png": "[encoded data removed]",
      "text/plain": [
       "<Figure size 432x288 with 1 Axes>"
      ]
     },
     "metadata": {
      "needs_background": "light"
     },
     "output_type": "display_data"
    },
    {
     "name": "stderr",
     "output_type": "stream",
     "text": [
      "WARNING:matplotlib.legend:No handles with labels found to put in legend.\n"
     ]
    },
    {
     "data": {
      "image/png": "[encoded data removed]",
      "text/plain": [
       "<Figure size 432x288 with 1 Axes>"
      ]
     },
     "metadata": {
      "needs_background": "light"
     },
     "output_type": "display_data"
    },
    {
     "name": "stderr",
     "output_type": "stream",
     "text": [
      "WARNING:matplotlib.legend:No handles with labels found to put in legend.\n"
     ]
    },
    {
     "data": {
      "image/png": "[encoded data removed]",
      "text/plain": [
       "<Figure size 432x288 with 1 Axes>"
      ]
     },
     "metadata": {
      "needs_background": "light"
     },
     "output_type": "display_data"
    }
   ],
   "source": [
    "run = run_agent(config_file)"
   ]
  },
  {
   "cell_type": "code",
   "execution_count": 6,
   "metadata": {},
   "outputs": [
    {
     "data": {
      "text/plain": [
       "Reusing TensorBoard on port 6006 (pid 24235), started 1 day, 2:15:36 ago. (Use '!kill 24235' to kill it.)"
      ]
     },
     "metadata": {},
     "output_type": "display_data"
    },
    {
     "data": {
      "text/html": [
       "\n",
       "      <iframe id=\"tensorboard-frame-a06abaa727fd25d9\" width=\"100%\" height=\"800\" frameborder=\"0\">\n",
       "      </iframe>\n",
       "      <script>\n",
       "        (function() {\n",
       "          const frame = document.getElementById(\"tensorboard-frame-a06abaa727fd25d9\");\n",
       "          const url = new URL(\"/\", window.location);\n",
       "          const port = 6006;\n",
       "          if (port) {\n",
       "            url.port = port;\n",
       "          }\n",
       "          frame.src = url;\n",
       "        })();\n",
       "      </script>\n",
       "    "
      ],
      "text/plain": [
       "<IPython.core.display.HTML object>"
      ]
     },
     "metadata": {},
     "output_type": "display_data"
    }
   ],
   "source": [
    "%tensorboard --logdir=runs/ --host localhost"
   ]
  },
  {
   "cell_type": "code",
   "execution_count": null,
   "metadata": {},
   "outputs": [],
   "source": []
  }
 ],
 "metadata": {
  "kernelspec": {
   "display_name": "VikingDevBranch",
   "language": "python",
   "name": "vikingdevbranch"
  },
  "language_info": {
   "codemirror_mode": {
    "name": "ipython",
    "version": 3
   },
   "file_extension": ".py",
   "mimetype": "text/x-python",
   "name": "python",
   "nbconvert_exporter": "python",
   "pygments_lexer": "ipython3",
   "version": "3.7.0"
  },
  "pycharm": {
   "stem_cell": {
    "cell_type": "raw",
    "metadata": {
     "collapsed": false
    },
    "source": []
   }
  }
 },
 "nbformat": 4,
 "nbformat_minor": 4
}
