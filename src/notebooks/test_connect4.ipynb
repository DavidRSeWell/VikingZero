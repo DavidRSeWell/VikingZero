{
 "cells": [
  {
   "cell_type": "code",
   "execution_count": 1,
   "metadata": {},
   "outputs": [],
   "source": [
    "import numpy as np"
   ]
  },
  {
   "cell_type": "code",
   "execution_count": 164,
   "metadata": {},
   "outputs": [],
   "source": [
    "def check_horizontal(board):\n",
    "\n",
    "    n = board.shape[0]\n",
    "    \n",
    "    m = board.shape[1]\n",
    "    \n",
    "    # check horizontal\n",
    "    for i in range(n):\n",
    "        curr_piece = board[i][0]\n",
    "        count = 1\n",
    "        for j in range(1,m):\n",
    "            \n",
    "            next_piece = board[i][j]\n",
    "            \n",
    "            if (curr_piece == 0) or (curr_piece != next_piece):\n",
    "                count = 1\n",
    "                curr_piece = next_piece\n",
    "                continue\n",
    "                \n",
    "            if curr_piece == next_piece:\n",
    "                count += 1\n",
    "                curr_piece = next_piece\n",
    "                if count == 4:\n",
    "                    return curr_piece\n",
    "                continue\n",
    "                \n",
    "    return 0"
   ]
  },
  {
   "cell_type": "code",
   "execution_count": 179,
   "metadata": {},
   "outputs": [],
   "source": [
    "def check_winner_new(board):\n",
    "    \n",
    "    # check horizontal \n",
    "    c = check_horizontal(board)\n",
    "    \n",
    "    if c != 0:\n",
    "        return c\n",
    "    \n",
    "    # check vertical \n",
    "    c = check_horizontal(board.T)\n",
    "    \n",
    "    if c!= 0:\n",
    "        return c\n",
    "    \n",
    "    # check diagonal top left to bottom right\n",
    "    for i in range(board.shape[0]):\n",
    "        diag = np.diagonal(board,i,axis1=1,axis2=0)\n",
    "        \n",
    "        diag = diag.reshape((1,len(diag)))\n",
    "        \n",
    "        c = check_horizontal(diag)\n",
    "        \n",
    "        print(c)\n",
    "        \n",
    "        if c: return c\n",
    "        \n",
    "    # check diagonal top right to bottom left\n",
    "    for j in range(board.shape[1]):\n",
    "        \n",
    "        diag = np.diagonal(board,j)\n",
    "        \n",
    "        diag = diag.reshape((1,len(diag)))\n",
    "\n",
    "        c = check_horizontal(diag)\n",
    "        \n",
    "        print(c)\n",
    "        \n",
    "        if c: return c\n",
    "    \n",
    "    \n",
    "    # check for draw\n",
    "    num_zeros = np.where(board == 0)\n",
    "\n",
    "    if len(num_zeros[0]) == 0:\n",
    "        # we have played to this point without a winner and board is full\n",
    "        return -1\n",
    "    \n",
    "    # no winners\n",
    "    return 0\n",
    "\n",
    "    "
   ]
  },
  {
   "cell_type": "code",
   "execution_count": 180,
   "metadata": {},
   "outputs": [
    {
     "name": "stdout",
     "output_type": "stream",
     "text": [
      "0\n",
      "0\n",
      "0\n",
      "0\n",
      "0\n",
      "0\n",
      "0\n",
      "0\n",
      "0\n",
      "0\n",
      "0\n",
      "0\n",
      "0\n"
     ]
    },
    {
     "data": {
      "text/plain": [
       "0"
      ]
     },
     "execution_count": 180,
     "metadata": {},
     "output_type": "execute_result"
    }
   ],
   "source": [
    "check_winner_new(board)"
   ]
  },
  {
   "cell_type": "code",
   "execution_count": 127,
   "metadata": {},
   "outputs": [],
   "source": [
    "def check_winner(board):\n",
    "    #assert type(board) == np.array\n",
    "    assert board.shape == (6,7)\n",
    "    \n",
    "    n = board.shape[0]\n",
    "    m = board.shape[1]\n",
    "    \n",
    "    # check horizontal\n",
    "    for i in range(n):\n",
    "        curr_piece = board[i][0]\n",
    "        count = 1\n",
    "        for j in range(1,m):\n",
    "            \n",
    "            next_piece = board[i][j]\n",
    "            \n",
    "            if (curr_piece == 0) or (curr_piece != next_piece):\n",
    "                count = 1\n",
    "                curr_piece = next_piece\n",
    "                continue\n",
    "                \n",
    "            if curr_piece == next_piece:\n",
    "                count += 1\n",
    "                curr_piece = next_piece\n",
    "                if count == 4:\n",
    "                    return curr_piece\n",
    "                continue\n",
    "                \n",
    "    # check vertical\n",
    "    for i in range(m):\n",
    "        curr_piece = board[0][i]\n",
    "        count = 1\n",
    "        for j in range(1,n):     \n",
    "            next_piece = board[j][i]\n",
    "            \n",
    "            if (curr_piece == 0) or (curr_piece != next_piece):\n",
    "                count = 1\n",
    "                curr_piece = next_piece\n",
    "                continue\n",
    "                \n",
    "            if curr_piece == next_piece:\n",
    "                count += 1\n",
    "                curr_piece = next_piece\n",
    "                if count == 4:\n",
    "                    return curr_piece\n",
    "                continue\n",
    "                \n",
    "    # check diagnol first direction\n",
    "    for i in range(n):\n",
    "        # start top left corner\n",
    "        curr_piece_1 = board[i][0]\n",
    "        curr_piece_2 = board[i][-1]\n",
    "        \n",
    "        dist = np.abs(i - n) + 1\n",
    "        if dist < 4:\n",
    "            continue\n",
    "        \n",
    "        count1 = 1\n",
    "        count2 = 1\n",
    "        \n",
    "        ii = i\n",
    "\n",
    "        for j in range(1,dist - 1):\n",
    "            \n",
    "            next_piece_1 = board[ii + 1][j]\n",
    "            next_piece_2 = board[ii + 1][-(j + 1)]\n",
    "            \n",
    "            print(f'ii = {ii} , j = {-j} , curr2 = {curr_piece_2}, next2 = {next_piece_2}, count1 = {count2}')\n",
    "            \n",
    "            if (curr_piece_1 == 0) or (curr_piece_1 != next_piece_1):\n",
    "                count1 = 1\n",
    "                \n",
    "            if (curr_piece_2 == 0) or (curr_piece_2 != next_piece_2):\n",
    "                count2 = 1\n",
    "                \n",
    "            if curr_piece_1 == next_piece_1:\n",
    "                \n",
    "                count1 += 1\n",
    "                \n",
    "                if count1 == 4:\n",
    "                    return curr_piece_1\n",
    "                \n",
    "            if curr_piece_2 == next_piece_2:\n",
    "                \n",
    "                count2 += 1\n",
    "                \n",
    "                if count2 == 4:\n",
    "                    return curr_piece_2\n",
    "                \n",
    "                \n",
    "            curr_piece_1 = next_piece_1\n",
    "            curr_piece_2 = next_piece_2\n",
    "            ii += 1\n",
    "            \n",
    "        # check diagnol first direction\n",
    "    for i in range(1,m - 1):\n",
    "        # start top left corner\n",
    "        curr_piece_1 = board[i][0]\n",
    "        curr_piece_2 = board[i][-1]\n",
    "        \n",
    "        dist = np.abs(i - m) + 1\n",
    "        if dist < 4:\n",
    "            continue\n",
    "        \n",
    "        count1 = 1\n",
    "        count2 = 1\n",
    "        \n",
    "        ii = i\n",
    "\n",
    "        for j in range(1,dist - 1):\n",
    "            \n",
    "            next_piece_1 = board[ii + 1][j]\n",
    "            next_piece_2 = board[ii + 1][-(j + 1)]\n",
    "            \n",
    "            print(f'ii = {ii} , j = {-j} , curr2 = {curr_piece_2}, next2 = {next_piece_2}, count1 = {count2}')\n",
    "            \n",
    "            if (curr_piece_1 == 0) or (curr_piece_1 != next_piece_1):\n",
    "                count1 = 1\n",
    "                \n",
    "            if (curr_piece_2 == 0) or (curr_piece_2 != next_piece_2):\n",
    "                count2 = 1\n",
    "                \n",
    "            if curr_piece_1 == next_piece_1:\n",
    "                \n",
    "                count1 += 1\n",
    "                \n",
    "                if count1 == 4:\n",
    "                    return curr_piece_1\n",
    "                \n",
    "            if curr_piece_2 == next_piece_2:\n",
    "                \n",
    "                count2 += 1\n",
    "                \n",
    "                if count2 == 4:\n",
    "                    return curr_piece_2\n",
    "                \n",
    "                \n",
    "            curr_piece_1 = next_piece_1\n",
    "            curr_piece_2 = next_piece_2\n",
    "            ii += 1\n",
    "        \n",
    "        \n",
    "                \n",
    "    # check for draw\n",
    "    num_zeros = np.where(board == 0)\n",
    "    if len(num_zeros[0]) == 0:\n",
    "        # we have played to this point without a winner and board is full\n",
    "        return -1\n",
    "                \n",
    "    return 0\n",
    "            \n",
    "            "
   ]
  },
  {
   "cell_type": "code",
   "execution_count": 209,
   "metadata": {},
   "outputs": [],
   "source": [
    "board = np.array([\n",
    "        [0, 0, 3, 0, 2, 0, 0],\n",
    "        [0, 0, 0, 0, 0, 2, 0],\n",
    "        [3, 0, 0, 0, 0, 0, 2],\n",
    "        [0, 0, 0, 0, 0, 0, 1],\n",
    "        [0, 0, 0, 0, 0, 1, 0],\n",
    "        [0, 1, 0, 0, 1, 0, 0],\n",
    "    ])"
   ]
  },
  {
   "cell_type": "code",
   "execution_count": 220,
   "metadata": {},
   "outputs": [],
   "source": [
    "legal_play = np.where(board[:,1] == 3)"
   ]
  },
  {
   "cell_type": "code",
   "execution_count": 221,
   "metadata": {},
   "outputs": [
    {
     "data": {
      "text/plain": [
       "0"
      ]
     },
     "execution_count": 221,
     "metadata": {},
     "output_type": "execute_result"
    }
   ],
   "source": [
    "len(legal_play[0])d"
   ]
  },
  {
   "cell_type": "code",
   "execution_count": 215,
   "metadata": {},
   "outputs": [],
   "source": [
    "board[legal_play,1] = 1"
   ]
  },
  {
   "cell_type": "code",
   "execution_count": 216,
   "metadata": {},
   "outputs": [
    {
     "data": {
      "text/plain": [
       "array([[0, 0, 3, 0, 2, 0, 0],\n",
       "       [0, 0, 0, 0, 0, 2, 0],\n",
       "       [3, 0, 0, 0, 0, 0, 2],\n",
       "       [0, 0, 0, 0, 0, 0, 1],\n",
       "       [0, 1, 0, 0, 0, 1, 0],\n",
       "       [0, 1, 0, 0, 1, 0, 0]])"
      ]
     },
     "execution_count": 216,
     "metadata": {},
     "output_type": "execute_result"
    }
   ],
   "source": [
    "board"
   ]
  },
  {
   "cell_type": "code",
   "execution_count": 207,
   "metadata": {},
   "outputs": [
    {
     "data": {
      "text/plain": [
       "array([[0, 0, 2, 0, 3, 0, 0],\n",
       "       [0, 2, 0, 0, 0, 3, 0],\n",
       "       [2, 0, 0, 0, 0, 0, 3],\n",
       "       [1, 0, 0, 0, 0, 0, 0],\n",
       "       [0, 1, 0, 0, 0, 0, 0],\n",
       "       [0, 0, 1, 0, 0, 0, 0]])"
      ]
     },
     "execution_count": 207,
     "metadata": {},
     "output_type": "execute_result"
    }
   ],
   "source": [
    "np.flip(board,axis=1)"
   ]
  },
  {
   "cell_type": "code",
   "execution_count": 200,
   "metadata": {},
   "outputs": [
    {
     "data": {
      "text/plain": [
       "array([0, 0, 0, 0, 1, 0])"
      ]
     },
     "execution_count": 200,
     "metadata": {},
     "output_type": "execute_result"
    }
   ],
   "source": [
    "np.diagonal(board.T,1,axis1=1,axis2=0)"
   ]
  },
  {
   "cell_type": "code",
   "execution_count": 203,
   "metadata": {},
   "outputs": [
    {
     "data": {
      "text/plain": [
       "array([2, 2, 2])"
      ]
     },
     "execution_count": 203,
     "metadata": {},
     "output_type": "execute_result"
    }
   ],
   "source": [
    "np.diagonal(board,4)"
   ]
  },
  {
   "cell_type": "code",
   "execution_count": 201,
   "metadata": {},
   "outputs": [
    {
     "data": {
      "text/plain": [
       "array([[0, 0, 0, 0, 0, 0],\n",
       "       [0, 0, 0, 0, 0, 0],\n",
       "       [0, 0, 0, 0, 0, 0],\n",
       "       [0, 0, 0, 0, 0, 0],\n",
       "       [2, 0, 0, 0, 0, 1],\n",
       "       [0, 2, 0, 0, 1, 0],\n",
       "       [0, 0, 2, 1, 0, 0]])"
      ]
     },
     "execution_count": 201,
     "metadata": {},
     "output_type": "execute_result"
    }
   ],
   "source": [
    "board.T"
   ]
  },
  {
   "cell_type": "code",
   "execution_count": 202,
   "metadata": {},
   "outputs": [
    {
     "name": "stdout",
     "output_type": "stream",
     "text": [
      "0\n",
      "0\n",
      "0\n",
      "0\n",
      "0\n",
      "0\n",
      "0\n",
      "0\n",
      "0\n",
      "0\n",
      "0\n",
      "0\n",
      "0\n"
     ]
    },
    {
     "data": {
      "text/plain": [
       "0"
      ]
     },
     "execution_count": 202,
     "metadata": {},
     "output_type": "execute_result"
    }
   ],
   "source": [
    "check_winner_new(board)"
   ]
  },
  {
   "cell_type": "code",
   "execution_count": 147,
   "metadata": {},
   "outputs": [
    {
     "name": "stdout",
     "output_type": "stream",
     "text": [
      "ii = 0 , j = -1 , curr2 = 1, next2 = 1, count1 = 1\n",
      "ii = 1 , j = -2 , curr2 = 1, next2 = 1, count1 = 2\n",
      "ii = 2 , j = -3 , curr2 = 1, next2 = 0, count1 = 3\n",
      "ii = 3 , j = -4 , curr2 = 0, next2 = 1, count1 = 1\n",
      "ii = 4 , j = -5 , curr2 = 1, next2 = 1, count1 = 1\n",
      "ii = 1 , j = -1 , curr2 = 0, next2 = 0, count1 = 1\n",
      "ii = 2 , j = -2 , curr2 = 0, next2 = 0, count1 = 2\n",
      "ii = 3 , j = -3 , curr2 = 0, next2 = 2, count1 = 2\n",
      "ii = 4 , j = -4 , curr2 = 2, next2 = 1, count1 = 1\n",
      "ii = 2 , j = -1 , curr2 = 2, next2 = 2, count1 = 1\n",
      "ii = 3 , j = -2 , curr2 = 2, next2 = 0, count1 = 2\n",
      "ii = 4 , j = -3 , curr2 = 0, next2 = 2, count1 = 1\n",
      "ii = 3 , j = -1 , curr2 = 0, next2 = 0, count1 = 1\n",
      "ii = 4 , j = -2 , curr2 = 0, next2 = 0, count1 = 2\n"
     ]
    },
    {
     "data": {
      "text/plain": [
       "-1"
      ]
     },
     "execution_count": 147,
     "metadata": {},
     "output_type": "execute_result"
    }
   ],
   "source": [
    "check_winner(board)"
   ]
  },
  {
   "cell_type": "code",
   "execution_count": 189,
   "metadata": {},
   "outputs": [
    {
     "data": {
      "text/plain": [
       "\u001b[0;31mSignature:\u001b[0m \u001b[0mnp\u001b[0m\u001b[0;34m.\u001b[0m\u001b[0mdiagonal\u001b[0m\u001b[0;34m(\u001b[0m\u001b[0ma\u001b[0m\u001b[0;34m,\u001b[0m \u001b[0moffset\u001b[0m\u001b[0;34m=\u001b[0m\u001b[0;36m0\u001b[0m\u001b[0;34m,\u001b[0m \u001b[0maxis1\u001b[0m\u001b[0;34m=\u001b[0m\u001b[0;36m0\u001b[0m\u001b[0;34m,\u001b[0m \u001b[0maxis2\u001b[0m\u001b[0;34m=\u001b[0m\u001b[0;36m1\u001b[0m\u001b[0;34m)\u001b[0m\u001b[0;34m\u001b[0m\u001b[0;34m\u001b[0m\u001b[0m\n",
       "\u001b[0;31mDocstring:\u001b[0m\n",
       "Return specified diagonals.\n",
       "\n",
       "If `a` is 2-D, returns the diagonal of `a` with the given offset,\n",
       "i.e., the collection of elements of the form ``a[i, i+offset]``.  If\n",
       "`a` has more than two dimensions, then the axes specified by `axis1`\n",
       "and `axis2` are used to determine the 2-D sub-array whose diagonal is\n",
       "returned.  The shape of the resulting array can be determined by\n",
       "removing `axis1` and `axis2` and appending an index to the right equal\n",
       "to the size of the resulting diagonals.\n",
       "\n",
       "In versions of NumPy prior to 1.7, this function always returned a new,\n",
       "independent array containing a copy of the values in the diagonal.\n",
       "\n",
       "In NumPy 1.7 and 1.8, it continues to return a copy of the diagonal,\n",
       "but depending on this fact is deprecated. Writing to the resulting\n",
       "array continues to work as it used to, but a FutureWarning is issued.\n",
       "\n",
       "Starting in NumPy 1.9 it returns a read-only view on the original array.\n",
       "Attempting to write to the resulting array will produce an error.\n",
       "\n",
       "In some future release, it will return a read/write view and writing to\n",
       "the returned array will alter your original array.  The returned array\n",
       "will have the same type as the input array.\n",
       "\n",
       "If you don't write to the array returned by this function, then you can\n",
       "just ignore all of the above.\n",
       "\n",
       "If you depend on the current behavior, then we suggest copying the\n",
       "returned array explicitly, i.e., use ``np.diagonal(a).copy()`` instead\n",
       "of just ``np.diagonal(a)``. This will work with both past and future\n",
       "versions of NumPy.\n",
       "\n",
       "Parameters\n",
       "----------\n",
       "a : array_like\n",
       "    Array from which the diagonals are taken.\n",
       "offset : int, optional\n",
       "    Offset of the diagonal from the main diagonal.  Can be positive or\n",
       "    negative.  Defaults to main diagonal (0).\n",
       "axis1 : int, optional\n",
       "    Axis to be used as the first axis of the 2-D sub-arrays from which\n",
       "    the diagonals should be taken.  Defaults to first axis (0).\n",
       "axis2 : int, optional\n",
       "    Axis to be used as the second axis of the 2-D sub-arrays from\n",
       "    which the diagonals should be taken. Defaults to second axis (1).\n",
       "\n",
       "Returns\n",
       "-------\n",
       "array_of_diagonals : ndarray\n",
       "    If `a` is 2-D, then a 1-D array containing the diagonal and of the\n",
       "    same type as `a` is returned unless `a` is a `matrix`, in which case\n",
       "    a 1-D array rather than a (2-D) `matrix` is returned in order to\n",
       "    maintain backward compatibility.\n",
       "\n",
       "    If ``a.ndim > 2``, then the dimensions specified by `axis1` and `axis2`\n",
       "    are removed, and a new axis inserted at the end corresponding to the\n",
       "    diagonal.\n",
       "\n",
       "Raises\n",
       "------\n",
       "ValueError\n",
       "    If the dimension of `a` is less than 2.\n",
       "\n",
       "See Also\n",
       "--------\n",
       "diag : MATLAB work-a-like for 1-D and 2-D arrays.\n",
       "diagflat : Create diagonal arrays.\n",
       "trace : Sum along diagonals.\n",
       "\n",
       "Examples\n",
       "--------\n",
       ">>> a = np.arange(4).reshape(2,2)\n",
       ">>> a\n",
       "array([[0, 1],\n",
       "       [2, 3]])\n",
       ">>> a.diagonal()\n",
       "array([0, 3])\n",
       ">>> a.diagonal(1)\n",
       "array([1])\n",
       "\n",
       "A 3-D example:\n",
       "\n",
       ">>> a = np.arange(8).reshape(2,2,2); a\n",
       "array([[[0, 1],\n",
       "        [2, 3]],\n",
       "       [[4, 5],\n",
       "        [6, 7]]])\n",
       ">>> a.diagonal(0,  # Main diagonals of two arrays created by skipping\n",
       "...            0,  # across the outer(left)-most axis last and\n",
       "...            1)  # the \"middle\" (row) axis first.\n",
       "array([[0, 6],\n",
       "       [1, 7]])\n",
       "\n",
       "The sub-arrays whose main diagonals we just obtained; note that each\n",
       "corresponds to fixing the right-most (column) axis, and that the\n",
       "diagonals are \"packed\" in rows.\n",
       "\n",
       ">>> a[:,:,0]  # main diagonal is [0 6]\n",
       "array([[0, 2],\n",
       "       [4, 6]])\n",
       ">>> a[:,:,1]  # main diagonal is [1 7]\n",
       "array([[1, 3],\n",
       "       [5, 7]])\n",
       "\n",
       "The anti-diagonal can be obtained by reversing the order of elements\n",
       "using either `numpy.flipud` or `numpy.fliplr`.\n",
       "\n",
       ">>> a = np.arange(9).reshape(3, 3)\n",
       ">>> a\n",
       "array([[0, 1, 2],\n",
       "       [3, 4, 5],\n",
       "       [6, 7, 8]])\n",
       ">>> np.fliplr(a).diagonal()  # Horizontal flip\n",
       "array([2, 4, 6])\n",
       ">>> np.flipud(a).diagonal()  # Vertical flip\n",
       "array([6, 4, 2])\n",
       "\n",
       "Note that the order in which the diagonal is retrieved varies depending\n",
       "on the flip function.\n",
       "\u001b[0;31mFile:\u001b[0m      ~/.local/lib/python3.7/site-packages/numpy/core/fromnumeric.py\n",
       "\u001b[0;31mType:\u001b[0m      function\n"
      ]
     },
     "metadata": {},
     "output_type": "display_data"
    }
   ],
   "source": [
    "np.diagonal?"
   ]
  },
  {
   "cell_type": "code",
   "execution_count": null,
   "metadata": {},
   "outputs": [],
   "source": []
  }
 ],
 "metadata": {
  "kernelspec": {
   "display_name": "VikingZero",
   "language": "python",
   "name": "vikingzero"
  },
  "language_info": {
   "codemirror_mode": {
    "name": "ipython",
    "version": 3
   },
   "file_extension": ".py",
   "mimetype": "text/x-python",
   "name": "python",
   "nbconvert_exporter": "python",
   "pygments_lexer": "ipython3",
   "version": "3.7.3"
  }
 },
 "nbformat": 4,
 "nbformat_minor": 4
}
